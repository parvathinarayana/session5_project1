{
 "cells": [
  {
   "cell_type": "markdown",
   "metadata": {},
   "source": [
    "1. Write a program in Python with one class called Cipher.Within the constructor of this class, ask user for a string and store it. Use a static variable, key to store a randomly generated integer between 1 and 50 inclusive. Implement two methods, encrypt and decrypt within this class. Encrypt generates and prints a cipher text using the user-entered string and the key and decrypt generates decrypted string from ciphertext. The cipher only encrypts alpha and numeric (A-Z, a-z, 0-9). All Symbols, such as - , ; %, remain unencrypted. The cipher text can have special characters.Use generator expression to filter out alpha and numeric characters of the input string and to generate cipher text.Create an instance of this class, encrypt and decrypt back the user entered string.\n",
    "\n",
    "\n",
    "Distribution of Points:\n",
    "===================================\n",
    "1. Definition of class - 100\n",
    "2. Correct use of static key variable - 100\n",
    "3. Correct definition of constructor - 150\n",
    "4. Correct definition of encrypt - 150\n",
    "5. Correct definition of decrypt - 150\n",
    "6. Use of generator expressions for encrypt and decrypt - 100\n",
    "7. Correct checking of alpha and numeric characters in string to be encrypted -75\n",
    "8. Correct creation of Cipher object and invocation of encrypt, decrypt - 75\n",
    "9. Correct encrypted string - 50\n",
    "10. Correct decrypted string - 50"
   ]
  },
  {
   "cell_type": "code",
   "execution_count": 1,
   "metadata": {},
   "outputs": [
    {
     "name": "stdout",
     "output_type": "stream",
     "text": [
      "Enter the input stringParvathi Yadlapati\n",
      "\n",
      " Input String is :\tParvathi Yadlapati\n",
      "\n",
      "Encryption vaue of given string is :\t9KbfKdRS IKNVKZKdS\n",
      "\n",
      "Decryption vaue of given string is :\tParvathi Yadlapati\n"
     ]
    }
   ],
   "source": [
    "import numpy as np\n",
    "class Cipher:\n",
    "    L2I = dict(zip(\"ABCDEFGHIJKLMNOPQRSTUVWXYZabcdefghijklmnopqrstuvwxyz0123456789\",range(62)))\n",
    "    I2L = dict(zip(range(62),\"ABCDEFGHIJKLMNOPQRSTUVWXYZabcdefghijklmnopqrstuvwxyz0123456789\"))\n",
    "    \n",
    "    def __init__(self,instr=\"\"): \n",
    "        self.Instr=str(input(\"Enter the input string\"))\n",
    "        \n",
    "    def encrypt(self,key):\n",
    "        ciphertext = \"\"\n",
    "        Instr=self.Instr\n",
    "        for c in Instr:\n",
    "            if c.isalnum(): \n",
    "                ciphertext += self.I2L[ (self.L2I[c] + key)%62 ]\n",
    "            else: \n",
    "                ciphertext += c\n",
    "        return ciphertext\n",
    "    \n",
    "    def decrypt(self,Enstr,key):\n",
    "        plaintext2 = \"\"\n",
    "        for c in Enstr:\n",
    "            if c.isalnum(): plaintext2 += self.I2L[ (self.L2I[c] - key)%62]\n",
    "            else: plaintext2 += c\n",
    "        return plaintext2\n",
    "\n",
    "k=np.random.randint(1,50,1)\n",
    "key=k[0]\n",
    "c=Cipher()\n",
    "encryptstr=c.encrypt(key)\n",
    "decryptstr=c.decrypt(encryptstr,key)\n",
    "print(\"\\n Input String is :\\t\"+c.Instr)\n",
    "print(\"\\nEncryption vaue of given string is :\\t\"+encryptstr)\n",
    "print(\"\\nDecryption vaue of given string is :\\t\"+decryptstr)"
   ]
  }
 ],
 "metadata": {
  "kernelspec": {
   "display_name": "Python 3",
   "language": "python",
   "name": "python3"
  },
  "language_info": {
   "codemirror_mode": {
    "name": "ipython",
    "version": 3
   },
   "file_extension": ".py",
   "mimetype": "text/x-python",
   "name": "python",
   "nbconvert_exporter": "python",
   "pygments_lexer": "ipython3",
   "version": "3.7.0"
  }
 },
 "nbformat": 4,
 "nbformat_minor": 2
}
